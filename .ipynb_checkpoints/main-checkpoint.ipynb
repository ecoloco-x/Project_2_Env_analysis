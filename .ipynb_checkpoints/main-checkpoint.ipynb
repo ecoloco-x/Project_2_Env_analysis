{
 "cells": [
  {
   "cell_type": "code",
   "execution_count": null,
   "id": "8bbd18e1",
   "metadata": {},
   "outputs": [],
   "source": [
    "#code to get the last data set from the world bank"
   ]
  },
  {
   "cell_type": "code",
   "execution_count": null,
   "id": "378d93ec",
   "metadata": {},
   "outputs": [],
   "source": [
    "import pandas as pd\n",
    "import wbgapi as wb   #api wrapper"
   ]
  },
  {
   "cell_type": "code",
   "execution_count": null,
   "id": "641b2cdd",
   "metadata": {},
   "outputs": [],
   "source": [
    "# help(wb)"
   ]
  },
  {
   "cell_type": "code",
   "execution_count": null,
   "id": "3b9c56ec",
   "metadata": {},
   "outputs": [],
   "source": [
    "wb.source.info()"
   ]
  },
  {
   "cell_type": "code",
   "execution_count": null,
   "id": "d8ebe128",
   "metadata": {},
   "outputs": [],
   "source": []
  },
  {
   "cell_type": "code",
   "execution_count": null,
   "id": "c4f75a84",
   "metadata": {},
   "outputs": [],
   "source": [
    "wb.series.info()"
   ]
  },
  {
   "cell_type": "code",
   "execution_count": null,
   "id": "441d8d1c",
   "metadata": {},
   "outputs": [],
   "source": [
    "energy = wb.data.DataFrame('EG.ELC.RNEW.ZS')\n",
    "energy"
   ]
  },
  {
   "cell_type": "code",
   "execution_count": null,
   "id": "67f4dabc",
   "metadata": {},
   "outputs": [],
   "source": [
    "#saves the file\n",
    "energy.to_csv('energy.csv')"
   ]
  }
 ],
 "metadata": {
  "kernelspec": {
   "display_name": "Python 3 (ipykernel)",
   "language": "python",
   "name": "python3"
  },
  "language_info": {
   "codemirror_mode": {
    "name": "ipython",
    "version": 3
   },
   "file_extension": ".py",
   "mimetype": "text/x-python",
   "name": "python",
   "nbconvert_exporter": "python",
   "pygments_lexer": "ipython3",
   "version": "3.9.13"
  }
 },
 "nbformat": 4,
 "nbformat_minor": 5
}
